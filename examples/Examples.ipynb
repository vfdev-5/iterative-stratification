{
 "cells": [
  {
   "cell_type": "markdown",
   "metadata": {},
   "source": [
    "# Examples \n",
    "\n",
    "Notebook with random examples to better visualize results\n",
    " "
   ]
  },
  {
   "cell_type": "code",
   "execution_count": 1,
   "metadata": {},
   "outputs": [],
   "source": [
    "import numpy as np\n",
    "import matplotlib.pylab as plt\n",
    "%matplotlib inline"
   ]
  },
  {
   "cell_type": "code",
   "execution_count": 2,
   "metadata": {},
   "outputs": [],
   "source": [
    "import os\n",
    "import sys\n",
    "\n",
    "root_path = os.path.abspath(\"..\")\n",
    "sys.path.insert(0, root_path)\n",
    "\n",
    "from iterstrat.ml_stratifiers import MultilabelStratifiedKFold"
   ]
  },
  {
   "cell_type": "markdown",
   "metadata": {},
   "source": [
    "## Simple example \n",
    "\n",
    "There are N samples with random labels from a set of M labels. There also samples without any label"
   ]
  },
  {
   "cell_type": "code",
   "execution_count": 3,
   "metadata": {},
   "outputs": [],
   "source": [
    "n_labels = 5\n",
    "n_samples = 200\n",
    "\n",
    "x = np.zeros((n_samples, 2)) # This is not used in the split\n",
    "y = np.random.randint(0, 2, size=(n_samples, n_labels))"
   ]
  },
  {
   "cell_type": "code",
   "execution_count": 4,
   "metadata": {},
   "outputs": [],
   "source": [
    "def display_label_distributions(y, title=\"\"):\n",
    "    plt.figure(figsize=(12, 4))\n",
    "    plt.title(title)\n",
    "    plt.bar(list(range(n_labels)), np.sum(y, axis=0))"
   ]
  },
  {
   "cell_type": "code",
   "execution_count": 5,
   "metadata": {},
   "outputs": [
    {
     "data": {
      "image/png": "[encoded data removed]",
      "text/plain": [
       "<matplotlib.figure.Figure at 0x7fe57c6b62b0>"
      ]
     },
     "metadata": {},
     "output_type": "display_data"
    }
   ],
   "source": [
    "display_label_distributions(y, \"Initial distribution\")"
   ]
  },
  {
   "cell_type": "code",
   "execution_count": 6,
   "metadata": {
    "scrolled": false
   },
   "outputs": [
    {
     "name": "stdout",
     "output_type": "stream",
     "text": [
      "TRAIN & TEST =  set()\n",
      "TRAIN Y label ratio: [0.19518717 0.19251337 0.21122995 0.20053476 0.20053476]\n",
      "TEST Y label ratio: [0.19047619 0.20634921 0.21428571 0.1984127  0.19047619]\n",
      "TRAIN & TEST =  set()\n",
      "TRAIN Y label ratio: [0.19414894 0.19680851 0.21276596 0.19946809 0.19680851]\n",
      "TEST Y label ratio: [0.19354839 0.19354839 0.20967742 0.2016129  0.2016129 ]\n",
      "TRAIN & TEST =  set()\n",
      "TRAIN Y label ratio: [0.19363395 0.19893899 0.21220159 0.19893899 0.19628647]\n",
      "TEST Y label ratio: [0.19512195 0.18699187 0.21138211 0.20325203 0.20325203]\n",
      "TRAIN & TEST =  set()\n",
      "TRAIN Y label ratio: [0.19302949 0.19571046 0.21179625 0.20107239 0.19839142]\n",
      "TEST Y label ratio: [0.19685039 0.19685039 0.21259843 0.19685039 0.19685039]\n"
     ]
    }
   ],
   "source": [
    "mskf = MultilabelStratifiedKFold(n_splits=4, random_state=1)\n",
    "\n",
    "test_indices_list = []\n",
    "for train_index, test_index in mskf.split(x, y):\n",
    "    print(\"TRAIN & TEST = \", set(train_index) & set(test_index))\n",
    "    y_train = np.sum(y[train_index], axis=0)\n",
    "    y_train = y_train / np.sum(y_train)\n",
    "    y_test = np.sum(y[test_index], axis=0)\n",
    "    y_test = y_test / np.sum(y_test)\n",
    "    print(\"TRAIN Y label ratio:\", y_train)\n",
    "    print(\"TEST Y label ratio:\", y_test)\n",
    "    test_indices_list.append(test_index)"
   ]
  },
  {
   "cell_type": "code",
   "execution_count": 7,
   "metadata": {},
   "outputs": [],
   "source": [
    "def compute_examples_distrib(test_indices_list, n_samples):\n",
    "    \"\"\"\n",
    "    ED = mean on K folds of abd(S_i - c_i)\n",
    "    where S_i is number of samples in test fold i\n",
    "          c_i is desired number of samples = n_samples / n_folds\n",
    "    \"\"\"    \n",
    "    n_folds = len(test_indices_list)\n",
    "    return np.mean([np.abs(len(test_indices) - (n_samples / n_folds)) for test_indices in test_indices_list])"
   ]
  },
  {
   "cell_type": "code",
   "execution_count": 8,
   "metadata": {},
   "outputs": [
    {
     "data": {
      "text/plain": [
       "0.5"
      ]
     },
     "execution_count": 8,
     "metadata": {},
     "output_type": "execute_result"
    }
   ],
   "source": [
    "compute_examples_distrib(test_indices_list, n_samples)"
   ]
  },
  {
   "cell_type": "code",
   "execution_count": 9,
   "metadata": {},
   "outputs": [],
   "source": [
    "def compute_label_distrib(test_indices_list, y):\n",
    "    \"\"\"\n",
    "    LD = mean on labels of mean of K folds of abs( S_ij / (S_j - S_ij) - D_i/ (D - D_i) )\n",
    "    where S_ij is number of positive samples with label i in the test fold j \n",
    "          S_j is number of samples in the test fold j \n",
    "          D_i is number of positive samples with label i in the whole dataset\n",
    "          D is number of samples in the whole dataset          \n",
    "    \"\"\"\n",
    "    n_samples = len(y)\n",
    "    n_labels = y.shape[1]\n",
    "    output = []\n",
    "    for i in range(n_labels):\n",
    "        d_i = np.sum(y[:, i], axis=0)\n",
    "        d = d_i / (n_samples - d_i)\n",
    "        out2 = []\n",
    "        for test_indices in test_indices_list:                \n",
    "            s_j = len(test_indices)\n",
    "            s_ij = np.sum(np.sum(y[test_indices, i], axis=0))\n",
    "            s = s_ij / (s_j - s_ij)\n",
    "            out2.append(np.abs(s - d))\n",
    "        output.append(np.mean(out2))\n",
    "    return np.mean(output)"
   ]
  },
  {
   "cell_type": "code",
   "execution_count": 10,
   "metadata": {},
   "outputs": [
    {
     "data": {
      "text/plain": [
       "0.04852028285723938"
      ]
     },
     "execution_count": 10,
     "metadata": {},
     "output_type": "execute_result"
    }
   ],
   "source": [
    "compute_label_distrib(test_indices_list, y)"
   ]
  },
  {
   "cell_type": "code",
   "execution_count": null,
   "metadata": {},
   "outputs": [],
   "source": []
  },
  {
   "cell_type": "markdown",
   "metadata": {},
   "source": [
    "## Example with weights\n",
    "\n",
    "There are N samples with random labels from a set of M labels. There also samples without any label.\n",
    "However, now labels has a weight property. For example, sample is an image with geometric figures, labels are geometric form types: triangle, square, circle etc, therefore label weight is figure size.\n",
    "\n",
    "In the following example, let us suppose that all labels have the same weight except two labels that have an imbalanced distribution of weight values:"
   ]
  },
  {
   "cell_type": "code",
   "execution_count": 27,
   "metadata": {},
   "outputs": [],
   "source": [
    "n_labels = 5\n",
    "n_samples = 200\n",
    "\n",
    "x = np.zeros((n_samples, 2)) # This is not used in the split\n",
    "y = np.random.randint(0, 2, size=(n_samples, n_labels))\n",
    "# Weights are all equal except the first label\n",
    "w = 0.5 * np.ones((n_samples, n_labels))\n",
    "w[:(n_samples*4)//6, 0] = 0.1*np.random.randn((n_samples*4)//6) + 0.7\n",
    "w[(n_samples*4)//6:, 0] = 0.1*np.random.randn(n_samples - (n_samples*4)//6) + 0.2\n",
    "\n",
    "w[:(n_samples*2)//3, 1] = 0.05*np.random.randn((n_samples*2)//3) + 0.15\n",
    "w[(n_samples*2)//3:, 1] = 0.1*np.random.randn(n_samples - (n_samples*2)//3) + 0.8\n",
    "w = w * y\n",
    "\n",
    "indices = np.arange(n_samples)\n",
    "np.random.shuffle(indices)\n",
    "\n",
    "y = y[indices]\n",
    "w = w[indices]"
   ]
  },
  {
   "cell_type": "code",
   "execution_count": 28,
   "metadata": {},
   "outputs": [
    {
     "data": {
      "text/plain": [
       "(array([[0, 1, 1, 0, 0],\n",
       "        [0, 1, 0, 1, 1],\n",
       "        [0, 0, 1, 1, 1],\n",
       "        [1, 1, 1, 0, 1],\n",
       "        [0, 0, 0, 0, 0]]),\n",
       " array([[0.        , 0.82409018, 0.5       , 0.        , 0.        ],\n",
       "        [0.        , 0.93949995, 0.        , 0.5       , 0.5       ],\n",
       "        [0.        , 0.        , 0.5       , 0.5       , 0.5       ],\n",
       "        [0.22438744, 0.8462857 , 0.5       , 0.        , 0.5       ],\n",
       "        [0.        , 0.        , 0.        , 0.        , 0.        ]]))"
      ]
     },
     "execution_count": 28,
     "metadata": {},
     "output_type": "execute_result"
    }
   ],
   "source": [
    "y[:5], w[:5]"
   ]
  },
  {
   "cell_type": "code",
   "execution_count": 29,
   "metadata": {},
   "outputs": [],
   "source": [
    "def display_weights_distribution(w, title=\"\"):\n",
    "    plt.figure(figsize=(12, 4))\n",
    "    plt.title(title)\n",
    "    n = w.shape[1]\n",
    "    for i in range(n):\n",
    "        plt.subplot(1, n, i + 1)\n",
    "        plt.hist(w[:, i], bins=20, normed=1)"
   ]
  },
  {
   "cell_type": "code",
   "execution_count": 30,
   "metadata": {},
   "outputs": [
    {
     "data": {
      "image/png": "[encoded data removed]",
      "text/plain": [
       "<matplotlib.figure.Figure at 0x7fe57976b630>"
      ]
     },
     "metadata": {},
     "output_type": "display_data"
    }
   ],
   "source": [
    "display_weights_distribution(w, \"Initial\")"
   ]
  },
  {
   "cell_type": "code",
   "execution_count": 32,
   "metadata": {
    "scrolled": false
   },
   "outputs": [
    {
     "name": "stdout",
     "output_type": "stream",
     "text": [
      "\n",
      "TRAIN & TEST =  set()\n",
      "TRAIN Y label ratio: [0.19023136 0.19280206 0.18508997 0.22622108 0.20565553]\n",
      "TEST Y label ratio: [0.17821782 0.18811881 0.17821782 0.24752475 0.20792079]\n",
      "TRAIN Label 0 - non-zero weights distribution : [0.01351351 0.01351351 0.05405405 0.06756757 0.06756757 0.05405405\n",
      " 0.02702703 0.01351351 0.01351351 0.02702703 0.01351351 0.06756757\n",
      " 0.13513514 0.14864865 0.05405405 0.12162162 0.06756757 0.01351351\n",
      " 0.01351351 0.01351351]\n",
      "TEST Label 0 - non-zero weights distribution : [0.         0.         0.05555556 0.05555556 0.         0.05555556\n",
      " 0.11111111 0.05555556 0.         0.         0.11111111 0.05555556\n",
      " 0.16666667 0.05555556 0.05555556 0.11111111 0.05555556 0.05555556\n",
      " 0.         0.        ]\n",
      "TRAIN Label 1 - non-zero weights distribution : [0.02666667 0.08       0.32       0.18666667 0.13333333 0.\n",
      " 0.         0.         0.         0.         0.         0.\n",
      " 0.         0.02666667 0.02666667 0.04       0.08       0.04\n",
      " 0.02666667 0.01333333]\n",
      "TEST Label 1 - non-zero weights distribution : [0.05263158 0.10526316 0.15789474 0.21052632 0.15789474 0.\n",
      " 0.         0.         0.         0.         0.         0.\n",
      " 0.         0.         0.05263158 0.         0.05263158 0.10526316\n",
      " 0.10526316 0.        ]\n",
      "TRAIN Label 2 - non-zero weights distribution : [0. 0. 0. 0. 0. 0. 0. 0. 0. 1. 0. 0. 0. 0. 0. 0. 0. 0. 0. 0.]\n",
      "TEST Label 2 - non-zero weights distribution : [0. 0. 0. 0. 0. 0. 0. 0. 0. 1. 0. 0. 0. 0. 0. 0. 0. 0. 0. 0.]\n",
      "TRAIN Label 3 - non-zero weights distribution : [0. 0. 0. 0. 0. 0. 0. 0. 0. 1. 0. 0. 0. 0. 0. 0. 0. 0. 0. 0.]\n",
      "TEST Label 3 - non-zero weights distribution : [0. 0. 0. 0. 0. 0. 0. 0. 0. 1. 0. 0. 0. 0. 0. 0. 0. 0. 0. 0.]\n",
      "TRAIN Label 4 - non-zero weights distribution : [0. 0. 0. 0. 0. 0. 0. 0. 0. 1. 0. 0. 0. 0. 0. 0. 0. 0. 0. 0.]\n",
      "TEST Label 4 - non-zero weights distribution : [0. 0. 0. 0. 0. 0. 0. 0. 0. 1. 0. 0. 0. 0. 0. 0. 0. 0. 0. 0.]\n",
      "\n",
      "TRAIN & TEST =  set()\n",
      "TRAIN Y label ratio: [0.18527919 0.1928934  0.18274112 0.23096447 0.20812183]\n",
      "TEST Y label ratio: [0.19791667 0.1875     0.1875     0.22916667 0.19791667]\n",
      "TRAIN Label 0 - non-zero weights distribution : [0.         0.01369863 0.05479452 0.04109589 0.06849315 0.06849315\n",
      " 0.05479452 0.02739726 0.         0.01369863 0.02739726 0.08219178\n",
      " 0.16438356 0.10958904 0.05479452 0.12328767 0.05479452 0.01369863\n",
      " 0.01369863 0.01369863]\n",
      "TEST Label 0 - non-zero weights distribution : [0.05263158 0.         0.05263158 0.15789474 0.         0.\n",
      " 0.         0.         0.05263158 0.05263158 0.05263158 0.\n",
      " 0.05263158 0.21052632 0.05263158 0.10526316 0.10526316 0.05263158\n",
      " 0.         0.        ]\n",
      "TRAIN Label 1 - non-zero weights distribution : [0.03947368 0.09210526 0.25       0.22368421 0.15789474 0.\n",
      " 0.         0.         0.         0.         0.         0.\n",
      " 0.         0.02631579 0.02631579 0.02631579 0.07894737 0.05263158\n",
      " 0.02631579 0.        ]\n",
      "TEST Label 1 - non-zero weights distribution : [0.         0.05555556 0.44444444 0.05555556 0.05555556 0.\n",
      " 0.         0.         0.         0.         0.         0.\n",
      " 0.         0.         0.05555556 0.05555556 0.05555556 0.05555556\n",
      " 0.11111111 0.05555556]\n",
      "TRAIN Label 2 - non-zero weights distribution : [0. 0. 0. 0. 0. 0. 0. 0. 0. 1. 0. 0. 0. 0. 0. 0. 0. 0. 0. 0.]\n",
      "TEST Label 2 - non-zero weights distribution : [0. 0. 0. 0. 0. 0. 0. 0. 0. 1. 0. 0. 0. 0. 0. 0. 0. 0. 0. 0.]\n",
      "TRAIN Label 3 - non-zero weights distribution : [0. 0. 0. 0. 0. 0. 0. 0. 0. 1. 0. 0. 0. 0. 0. 0. 0. 0. 0. 0.]\n",
      "TEST Label 3 - non-zero weights distribution : [0. 0. 0. 0. 0. 0. 0. 0. 0. 1. 0. 0. 0. 0. 0. 0. 0. 0. 0. 0.]\n",
      "TRAIN Label 4 - non-zero weights distribution : [0. 0. 0. 0. 0. 0. 0. 0. 0. 1. 0. 0. 0. 0. 0. 0. 0. 0. 0. 0.]\n",
      "TEST Label 4 - non-zero weights distribution : [0. 0. 0. 0. 0. 0. 0. 0. 0. 1. 0. 0. 0. 0. 0. 0. 0. 0. 0. 0.]\n",
      "\n",
      "TRAIN & TEST =  set()\n",
      "TRAIN Y label ratio: [0.18575064 0.19083969 0.18320611 0.23155216 0.2086514 ]\n",
      "TEST Y label ratio: [0.19587629 0.19587629 0.18556701 0.22680412 0.19587629]\n",
      "TRAIN Label 0 - non-zero weights distribution : [0.01369863 0.         0.04109589 0.08219178 0.04109589 0.05479452\n",
      " 0.05479452 0.01369863 0.01369863 0.02739726 0.04109589 0.08219178\n",
      " 0.15068493 0.1369863  0.04109589 0.10958904 0.06849315 0.02739726\n",
      " 0.         0.        ]\n",
      "TEST Label 0 - non-zero weights distribution : [0.         0.05263158 0.10526316 0.         0.10526316 0.05263158\n",
      " 0.         0.05263158 0.         0.         0.         0.\n",
      " 0.10526316 0.10526316 0.10526316 0.15789474 0.05263158 0.\n",
      " 0.05263158 0.05263158]\n",
      "TRAIN Label 1 - non-zero weights distribution : [0.04       0.06666667 0.29333333 0.2        0.10666667 0.\n",
      " 0.         0.         0.         0.         0.         0.\n",
      " 0.         0.01333333 0.04       0.02666667 0.08       0.06666667\n",
      " 0.05333333 0.01333333]\n",
      "TEST Label 1 - non-zero weights distribution : [0.         0.15789474 0.26315789 0.15789474 0.26315789 0.\n",
      " 0.         0.         0.         0.         0.         0.\n",
      " 0.         0.05263158 0.         0.05263158 0.05263158 0.\n",
      " 0.         0.        ]\n",
      "TRAIN Label 2 - non-zero weights distribution : [0. 0. 0. 0. 0. 0. 0. 0. 0. 1. 0. 0. 0. 0. 0. 0. 0. 0. 0. 0.]\n",
      "TEST Label 2 - non-zero weights distribution : [0. 0. 0. 0. 0. 0. 0. 0. 0. 1. 0. 0. 0. 0. 0. 0. 0. 0. 0. 0.]\n",
      "TRAIN Label 3 - non-zero weights distribution : [0. 0. 0. 0. 0. 0. 0. 0. 0. 1. 0. 0. 0. 0. 0. 0. 0. 0. 0. 0.]\n",
      "TEST Label 3 - non-zero weights distribution : [0. 0. 0. 0. 0. 0. 0. 0. 0. 1. 0. 0. 0. 0. 0. 0. 0. 0. 0. 0.]\n",
      "TRAIN Label 4 - non-zero weights distribution : [0. 0. 0. 0. 0. 0. 0. 0. 0. 1. 0. 0. 0. 0. 0. 0. 0. 0. 0. 0.]\n",
      "TEST Label 4 - non-zero weights distribution : [0. 0. 0. 0. 0. 0. 0. 0. 0. 1. 0. 0. 0. 0. 0. 0. 0. 0. 0. 0.]\n",
      "\n",
      "TRAIN & TEST =  set()\n",
      "TRAIN Y label ratio: [0.18974359 0.19230769 0.18461538 0.23333333 0.2       ]\n",
      "TEST Y label ratio: [0.18 0.19 0.18 0.22 0.23]\n",
      "TRAIN Label 0 - non-zero weights distribution : [0.01351351 0.01351351 0.06756757 0.06756757 0.04054054 0.05405405\n",
      " 0.04054054 0.02702703 0.01351351 0.02702703 0.04054054 0.04054054\n",
      " 0.12162162 0.13513514 0.05405405 0.13513514 0.05405405 0.02702703\n",
      " 0.01351351 0.01351351]\n",
      "TEST Label 0 - non-zero weights distribution : [0.         0.         0.         0.05555556 0.11111111 0.05555556\n",
      " 0.05555556 0.         0.         0.         0.         0.16666667\n",
      " 0.22222222 0.11111111 0.05555556 0.05555556 0.11111111 0.\n",
      " 0.         0.        ]\n",
      "TRAIN Label 1 - non-zero weights distribution : [0.04       0.09333333 0.29333333 0.17333333 0.13333333 0.\n",
      " 0.         0.         0.         0.         0.         0.\n",
      " 0.         0.01333333 0.02666667 0.04       0.06666667 0.05333333\n",
      " 0.05333333 0.01333333]\n",
      "TEST Label 1 - non-zero weights distribution : [0.         0.05263158 0.26315789 0.26315789 0.15789474 0.\n",
      " 0.         0.         0.         0.         0.         0.\n",
      " 0.         0.05263158 0.05263158 0.         0.10526316 0.05263158\n",
      " 0.         0.        ]\n",
      "TRAIN Label 2 - non-zero weights distribution : [0. 0. 0. 0. 0. 0. 0. 0. 0. 1. 0. 0. 0. 0. 0. 0. 0. 0. 0. 0.]\n",
      "TEST Label 2 - non-zero weights distribution : [0. 0. 0. 0. 0. 0. 0. 0. 0. 1. 0. 0. 0. 0. 0. 0. 0. 0. 0. 0.]\n",
      "TRAIN Label 3 - non-zero weights distribution : [0. 0. 0. 0. 0. 0. 0. 0. 0. 1. 0. 0. 0. 0. 0. 0. 0. 0. 0. 0.]\n",
      "TEST Label 3 - non-zero weights distribution : [0. 0. 0. 0. 0. 0. 0. 0. 0. 1. 0. 0. 0. 0. 0. 0. 0. 0. 0. 0.]\n",
      "TRAIN Label 4 - non-zero weights distribution : [0. 0. 0. 0. 0. 0. 0. 0. 0. 1. 0. 0. 0. 0. 0. 0. 0. 0. 0. 0.]\n",
      "TEST Label 4 - non-zero weights distribution : [0. 0. 0. 0. 0. 0. 0. 0. 0. 1. 0. 0. 0. 0. 0. 0. 0. 0. 0. 0.]\n",
      "\n",
      "TRAIN & TEST =  set()\n",
      "TRAIN Y label ratio: [0.18781726 0.19035533 0.18274112 0.23096447 0.20812183]\n",
      "TEST Y label ratio: [0.1875     0.19791667 0.1875     0.22916667 0.19791667]\n",
      "TRAIN Label 0 - non-zero weights distribution : [0.01351351 0.01351351 0.05405405 0.06756757 0.05405405 0.04054054\n",
      " 0.04054054 0.02702703 0.01351351 0.01351351 0.04054054 0.05405405\n",
      " 0.13513514 0.12162162 0.06756757 0.10810811 0.08108108 0.02702703\n",
      " 0.01351351 0.01351351]\n",
      "TEST Label 0 - non-zero weights distribution : [0.         0.         0.05555556 0.05555556 0.05555556 0.11111111\n",
      " 0.05555556 0.         0.         0.05555556 0.         0.11111111\n",
      " 0.16666667 0.16666667 0.         0.16666667 0.         0.\n",
      " 0.         0.        ]\n",
      "TRAIN Label 1 - non-zero weights distribution : [0.01333333 0.09333333 0.28       0.17333333 0.16       0.\n",
      " 0.         0.         0.         0.         0.         0.\n",
      " 0.         0.02666667 0.04       0.02666667 0.06666667 0.05333333\n",
      " 0.05333333 0.01333333]\n",
      "TEST Label 1 - non-zero weights distribution : [0.10526316 0.05263158 0.31578947 0.26315789 0.05263158 0.\n",
      " 0.         0.         0.         0.         0.         0.\n",
      " 0.         0.         0.         0.05263158 0.10526316 0.05263158\n",
      " 0.         0.        ]\n",
      "TRAIN Label 2 - non-zero weights distribution : [0. 0. 0. 0. 0. 0. 0. 0. 0. 1. 0. 0. 0. 0. 0. 0. 0. 0. 0. 0.]\n",
      "TEST Label 2 - non-zero weights distribution : [0. 0. 0. 0. 0. 0. 0. 0. 0. 1. 0. 0. 0. 0. 0. 0. 0. 0. 0. 0.]\n",
      "TRAIN Label 3 - non-zero weights distribution : [0. 0. 0. 0. 0. 0. 0. 0. 0. 1. 0. 0. 0. 0. 0. 0. 0. 0. 0. 0.]\n",
      "TEST Label 3 - non-zero weights distribution : [0. 0. 0. 0. 0. 0. 0. 0. 0. 1. 0. 0. 0. 0. 0. 0. 0. 0. 0. 0.]\n",
      "TRAIN Label 4 - non-zero weights distribution : [0. 0. 0. 0. 0. 0. 0. 0. 0. 1. 0. 0. 0. 0. 0. 0. 0. 0. 0. 0.]\n",
      "TEST Label 4 - non-zero weights distribution : [0. 0. 0. 0. 0. 0. 0. 0. 0. 1. 0. 0. 0. 0. 0. 0. 0. 0. 0. 0.]\n"
     ]
    }
   ],
   "source": [
    "mskf = MultilabelStratifiedKFold(n_splits=5, random_state=1, weighted=True)\n",
    "\n",
    "for train_index, test_index in mskf.split(w, y):\n",
    "    print(\"\\nTRAIN & TEST = \", set(train_index) & set(test_index))\n",
    "    y_train = np.sum(y[train_index], axis=0)\n",
    "    y_train = y_train / np.sum(y_train)\n",
    "    y_test = np.sum(y[test_index], axis=0)\n",
    "    y_test = y_test / np.sum(y_test)\n",
    "    print(\"TRAIN Y label ratio:\", y_train)\n",
    "    print(\"TEST Y label ratio:\", y_test)\n",
    "\n",
    "    for i in range(n_labels):\n",
    "        w_train_hist, _ = np.histogram(w[train_index, i], bins=20, range=(0.01, 1), density=True)\n",
    "        w_train_hist = w_train_hist / np.sum(w_train_hist)\n",
    "        w_test_hist, _ = np.histogram(w[test_index, i], bins=20, range=(0.01, 1), density=True)\n",
    "        w_test_hist = w_test_hist / np.sum(w_test_hist)\n",
    "        print(\"TRAIN Label %i - non-zero weights distribution :\" % i, w_train_hist)\n",
    "        print(\"TEST Label %i - non-zero weights distribution :\" % i, w_test_hist)   "
   ]
  },
  {
   "cell_type": "code",
   "execution_count": 38,
   "metadata": {
    "scrolled": false
   },
   "outputs": [
    {
     "name": "stdout",
     "output_type": "stream",
     "text": [
      "\n",
      "TRAIN & TEST =  set()\n",
      "TRAIN Y label ratio: [0.20506329 0.2        0.18987342 0.20506329 0.2       ]\n",
      "TEST Y label ratio: [0.20408163 0.19387755 0.18367347 0.21428571 0.20408163]\n",
      "TRAIN Label 0 - non-zero weights distribution : [0.24691358 0.75308642]\n",
      "TEST Label 0 - non-zero weights distribution : [0.4 0.6]\n",
      "TRAIN Label 1 - non-zero weights distribution : [0.72151899 0.27848101]\n",
      "TEST Label 1 - non-zero weights distribution : [0.42105263 0.57894737]\n",
      "TRAIN Label 2 - non-zero weights distribution : [1.]\n",
      "TEST Label 2 - non-zero weights distribution : [1.]\n",
      "TRAIN Label 3 - non-zero weights distribution : [1.]\n",
      "TEST Label 3 - non-zero weights distribution : [1.]\n",
      "TRAIN Label 4 - non-zero weights distribution : [1.]\n",
      "TEST Label 4 - non-zero weights distribution : [1.]\n",
      "\n",
      "TRAIN & TEST =  set()\n",
      "TRAIN Y label ratio: [0.20506329 0.2        0.18734177 0.20759494 0.2       ]\n",
      "TEST Y label ratio: [0.20408163 0.19387755 0.19387755 0.20408163 0.20408163]\n",
      "TRAIN Label 0 - non-zero weights distribution : [0.27160494 0.72839506]\n",
      "TEST Label 0 - non-zero weights distribution : [0.3 0.7]\n",
      "TRAIN Label 1 - non-zero weights distribution : [0.64556962 0.35443038]\n",
      "TEST Label 1 - non-zero weights distribution : [0.73684211 0.26315789]\n",
      "TRAIN Label 2 - non-zero weights distribution : [1.]\n",
      "TEST Label 2 - non-zero weights distribution : [1.]\n",
      "TRAIN Label 3 - non-zero weights distribution : [1.]\n",
      "TEST Label 3 - non-zero weights distribution : [1.]\n",
      "TRAIN Label 4 - non-zero weights distribution : [1.]\n",
      "TEST Label 4 - non-zero weights distribution : [1.]\n",
      "\n",
      "TRAIN & TEST =  set()\n",
      "TRAIN Y label ratio: [0.20707071 0.19444444 0.18939394 0.20707071 0.2020202 ]\n",
      "TEST Y label ratio: [0.19587629 0.21649485 0.18556701 0.20618557 0.19587629]\n",
      "TRAIN Label 0 - non-zero weights distribution : [0.24390244 0.75609756]\n",
      "TEST Label 0 - non-zero weights distribution : [0.42105263 0.57894737]\n",
      "TRAIN Label 1 - non-zero weights distribution : [0.66233766 0.33766234]\n",
      "TEST Label 1 - non-zero weights distribution : [0.66666667 0.33333333]\n",
      "TRAIN Label 2 - non-zero weights distribution : [1.]\n",
      "TEST Label 2 - non-zero weights distribution : [1.]\n",
      "TRAIN Label 3 - non-zero weights distribution : [1.]\n",
      "TEST Label 3 - non-zero weights distribution : [1.]\n",
      "TRAIN Label 4 - non-zero weights distribution : [1.]\n",
      "TEST Label 4 - non-zero weights distribution : [1.]\n",
      "\n",
      "TRAIN & TEST =  set()\n",
      "TRAIN Y label ratio: [0.20506329 0.2        0.18734177 0.20759494 0.2       ]\n",
      "TEST Y label ratio: [0.20408163 0.19387755 0.19387755 0.20408163 0.20408163]\n",
      "TRAIN Label 0 - non-zero weights distribution : [0.30864198 0.69135802]\n",
      "TEST Label 0 - non-zero weights distribution : [0.15 0.85]\n",
      "TRAIN Label 1 - non-zero weights distribution : [0.65822785 0.34177215]\n",
      "TEST Label 1 - non-zero weights distribution : [0.68421053 0.31578947]\n",
      "TRAIN Label 2 - non-zero weights distribution : [1.]\n",
      "TEST Label 2 - non-zero weights distribution : [1.]\n",
      "TRAIN Label 3 - non-zero weights distribution : [1.]\n",
      "TEST Label 3 - non-zero weights distribution : [1.]\n",
      "TRAIN Label 4 - non-zero weights distribution : [1.]\n",
      "TEST Label 4 - non-zero weights distribution : [1.]\n",
      "\n",
      "TRAIN & TEST =  set()\n",
      "TRAIN Y label ratio: [0.20204604 0.19948849 0.18925831 0.20716113 0.20204604]\n",
      "TEST Y label ratio: [0.21568627 0.19607843 0.18627451 0.20588235 0.19607843]\n",
      "TRAIN Label 0 - non-zero weights distribution : [0.3164557 0.6835443]\n",
      "TEST Label 0 - non-zero weights distribution : [0.13636364 0.86363636]\n",
      "TRAIN Label 1 - non-zero weights distribution : [0.62820513 0.37179487]\n",
      "TEST Label 1 - non-zero weights distribution : [0.8 0.2]\n",
      "TRAIN Label 2 - non-zero weights distribution : [1.]\n",
      "TEST Label 2 - non-zero weights distribution : [1.]\n",
      "TRAIN Label 3 - non-zero weights distribution : [1.]\n",
      "TEST Label 3 - non-zero weights distribution : [1.]\n",
      "TRAIN Label 4 - non-zero weights distribution : [1.]\n",
      "TEST Label 4 - non-zero weights distribution : [1.]\n"
     ]
    }
   ],
   "source": [
    "mskf = MultilabelStratifiedKFold(n_splits=5, random_state=1, weighted=False)\n",
    "\n",
    "for train_index, test_index in mskf.split(w, y):\n",
    "    print(\"\\nTRAIN & TEST = \", set(train_index) & set(test_index))\n",
    "    y_train = np.sum(y[train_index], axis=0)\n",
    "    y_train = y_train / np.sum(y_train)\n",
    "    y_test = np.sum(y[test_index], axis=0)\n",
    "    y_test = y_test / np.sum(y_test)\n",
    "    print(\"TRAIN Y label ratio:\", y_train)\n",
    "    print(\"TEST Y label ratio:\", y_test)\n",
    "\n",
    "    for i in range(n_labels):\n",
    "        w_train_hist, _ = np.histogram(w[train_index, i], bins=20, range=(0.01, 1), density=True)\n",
    "        w_train_hist = w_train_hist / np.sum(w_train_hist)\n",
    "        w_test_hist, _ = np.histogram(w[test_index, i], bins=20, range=(0.01, 1), density=True)\n",
    "        w_test_hist = w_test_hist / np.sum(w_test_hist)\n",
    "        print(\"TRAIN Label %i - non-zero weights distribution :\" % i, w_train_hist[w_train_hist > 0])\n",
    "        print(\"TEST Label %i - non-zero weights distribution :\" % i, w_test_hist[w_test_hist > 0])   "
   ]
  },
  {
   "cell_type": "markdown",
   "metadata": {},
   "source": [
    "Observe that labels are not equally distributed on weight values"
   ]
  },
  {
   "cell_type": "code",
   "execution_count": 28,
   "metadata": {},
   "outputs": [
    {
     "data": {
      "text/plain": [
       "array([5, 3, 4, 0, 1, 2])"
      ]
     },
     "execution_count": 28,
     "metadata": {},
     "output_type": "execute_result"
    }
   ],
   "source": [
    "np.argsort([5, 6, 7, 2, 3, 0])"
   ]
  },
  {
   "cell_type": "code",
   "execution_count": 29,
   "metadata": {},
   "outputs": [],
   "source": [
    "def WeightedIterativeStratification(labels, weights, r, random_state):\n",
    "    \"\"\"This function adapts `ml_stratifiers.IterativeStratification` to the case of weighted labels\n",
    "    \"\"\"\n",
    "\n",
    "    n_samples = labels.shape[0]\n",
    "    test_folds = np.zeros(n_samples, dtype=int)\n",
    "\n",
    "    # Calculate the desired number of examples at each subset\n",
    "    c_folds = r * n_samples\n",
    "\n",
    "    # Calculate the desired number of examples of each label at each subset\n",
    "    c_folds_labels = np.outer(r, labels.sum(axis=0))\n",
    "\n",
    "    labels_not_processed_mask = np.ones(n_samples, dtype=bool)\n",
    "\n",
    "    while np.any(labels_not_processed_mask):\n",
    "        # Find the label with the fewest (but at least one) remaining examples,\n",
    "        # breaking ties randomly\n",
    "        num_labels = labels[labels_not_processed_mask].sum(axis=0)\n",
    "\n",
    "        # Handle case where only all-zero labels are left by distributing\n",
    "        # across all folds as evenly as possible (not in original algorithm but\n",
    "        # mentioned in the text). (By handling this case separately, some\n",
    "        # code redundancy is introduced; however, this approach allows for\n",
    "        # decreased execution time when there are a relatively large number\n",
    "        # of all-zero labels.)\n",
    "        if num_labels.sum() == 0:\n",
    "            sample_idxs = np.where(labels_not_processed_mask)[0]\n",
    "\n",
    "            for sample_idx in sample_idxs:\n",
    "                fold_idx = np.where(c_folds == c_folds.max())[0]\n",
    "\n",
    "                if fold_idx.shape[0] > 1:\n",
    "                    fold_idx = fold_idx[random_state.choice(fold_idx.shape[0])]\n",
    "\n",
    "                test_folds[sample_idx] = fold_idx\n",
    "                c_folds[fold_idx] -= 1\n",
    "\n",
    "            break\n",
    "\n",
    "        label_idx = np.where(num_labels == num_labels[np.nonzero(num_labels)].min())[0]\n",
    "        if label_idx.shape[0] > 1:\n",
    "            label_idx = label_idx[random_state.choice(label_idx.shape[0])]\n",
    "\n",
    "        sample_idxs = np.where(np.logical_and(labels[:, label_idx].flatten(), labels_not_processed_mask))[0]\n",
    "\n",
    "        # Order sample indices by descending weights\n",
    "        label_weights = weights[:, label_idx].flatten()\n",
    "        ordered_sample_indxs = np.argsort(label_weights)[::-1]\n",
    "        sample_idxs = ordered_sample_indxs[np.isin(ordered_sample_indxs, sample_idxs)]\n",
    "\n",
    "        for sample_idx in sample_idxs:\n",
    "            # Find the subset(s) with the largest number of desired examples\n",
    "            # for this label, breaking ties by considering the largest number\n",
    "            # of desired examples, breaking further ties randomly\n",
    "            label_folds = c_folds_labels[:, label_idx]\n",
    "            fold_idx = np.where(label_folds == label_folds.max())[0]\n",
    "\n",
    "            if fold_idx.shape[0] > 1:\n",
    "                temp_fold_idx = np.where(c_folds[fold_idx] ==\n",
    "                                         c_folds[fold_idx].max())[0]\n",
    "                fold_idx = fold_idx[temp_fold_idx]\n",
    "\n",
    "                if temp_fold_idx.shape[0] > 1:\n",
    "                    fold_idx = fold_idx[random_state.choice(temp_fold_idx.shape[0])]\n",
    "\n",
    "            test_folds[sample_idx] = fold_idx\n",
    "            labels_not_processed_mask[sample_idx] = False\n",
    "\n",
    "            # Update desired number of examples\n",
    "            c_folds_labels[fold_idx, labels[sample_idx]] -= 1\n",
    "            c_folds[fold_idx] -= 1\n",
    "\n",
    "    return test_folds"
   ]
  },
  {
   "cell_type": "code",
   "execution_count": 30,
   "metadata": {},
   "outputs": [],
   "source": [
    "r = np.asarray([1 / 5] * 5)\n",
    "test_folds = WeightedIterativeStratification(y, w, r, random_state=np.random.RandomState())"
   ]
  },
  {
   "cell_type": "code",
   "execution_count": 35,
   "metadata": {},
   "outputs": [],
   "source": []
  },
  {
   "cell_type": "code",
   "execution_count": 37,
   "metadata": {},
   "outputs": [
    {
     "name": "stdout",
     "output_type": "stream",
     "text": [
      "\n",
      "TRAIN & TEST =  set()\n",
      "TRAIN Y label ratio: [0.20854271 0.19849246 0.18592965 0.20100503 0.20603015]\n",
      "TEST Y label ratio: [0.18947368 0.2        0.2        0.23157895 0.17894737]\n",
      "TRAIN Label 0 - non-zero weights distribution : [0.27710843 0.72289157]\n",
      "TEST Label 0 - non-zero weights distribution : [0.27777778 0.72222222]\n",
      "TRAIN Label 1 - non-zero weights distribution : [0.70886076 0.29113924]\n",
      "TEST Label 1 - non-zero weights distribution : [0.47368421 0.52631579]\n",
      "TRAIN Label 2 - non-zero weights distribution : [1.]\n",
      "TEST Label 2 - non-zero weights distribution : [1.]\n",
      "TRAIN Label 3 - non-zero weights distribution : [1.]\n",
      "TEST Label 3 - non-zero weights distribution : [1.]\n",
      "TRAIN Label 4 - non-zero weights distribution : [1.]\n",
      "TEST Label 4 - non-zero weights distribution : [1.]\n",
      "\n",
      "TRAIN & TEST =  set()\n",
      "TRAIN Y label ratio: [0.20716113 0.20204604 0.19181586 0.20460358 0.1943734 ]\n",
      "TEST Y label ratio: [0.19607843 0.18627451 0.17647059 0.21568627 0.2254902 ]\n",
      "TRAIN Label 0 - non-zero weights distribution : [0.27160494 0.72839506]\n",
      "TEST Label 0 - non-zero weights distribution : [0.3 0.7]\n",
      "TRAIN Label 1 - non-zero weights distribution : [0.65822785 0.34177215]\n",
      "TEST Label 1 - non-zero weights distribution : [0.68421053 0.31578947]\n",
      "TRAIN Label 2 - non-zero weights distribution : [1.]\n",
      "TEST Label 2 - non-zero weights distribution : [1.]\n",
      "TRAIN Label 3 - non-zero weights distribution : [1.]\n",
      "TEST Label 3 - non-zero weights distribution : [1.]\n",
      "TRAIN Label 4 - non-zero weights distribution : [1.]\n",
      "TEST Label 4 - non-zero weights distribution : [1.]\n",
      "\n",
      "TRAIN & TEST =  set()\n",
      "TRAIN Y label ratio: [0.19592875 0.19592875 0.18829517 0.21628499 0.20356234]\n",
      "TEST Y label ratio: [0.24 0.21 0.19 0.17 0.19]\n",
      "TRAIN Label 0 - non-zero weights distribution : [0.27272727 0.72727273]\n",
      "TEST Label 0 - non-zero weights distribution : [0.29166667 0.70833333]\n",
      "TRAIN Label 1 - non-zero weights distribution : [0.66233766 0.33766234]\n",
      "TEST Label 1 - non-zero weights distribution : [0.66666667 0.33333333]\n",
      "TRAIN Label 2 - non-zero weights distribution : [1.]\n",
      "TEST Label 2 - non-zero weights distribution : [1.]\n",
      "TRAIN Label 3 - non-zero weights distribution : [1.]\n",
      "TEST Label 3 - non-zero weights distribution : [1.]\n",
      "TRAIN Label 4 - non-zero weights distribution : [1.]\n",
      "TEST Label 4 - non-zero weights distribution : [1.]\n",
      "\n",
      "TRAIN & TEST =  set()\n",
      "TRAIN Y label ratio: [0.21393035 0.20149254 0.18656716 0.2039801  0.19402985]\n",
      "TEST Y label ratio: [0.16483516 0.18681319 0.1978022  0.21978022 0.23076923]\n",
      "TRAIN Label 0 - non-zero weights distribution : [0.27906977 0.72093023]\n",
      "TEST Label 0 - non-zero weights distribution : [0.26666667 0.73333333]\n",
      "TRAIN Label 1 - non-zero weights distribution : [0.62962963 0.37037037]\n",
      "TEST Label 1 - non-zero weights distribution : [0.82352941 0.17647059]\n",
      "TRAIN Label 2 - non-zero weights distribution : [1.]\n",
      "TEST Label 2 - non-zero weights distribution : [1.]\n",
      "TRAIN Label 3 - non-zero weights distribution : [1.]\n",
      "TEST Label 3 - non-zero weights distribution : [1.]\n",
      "TRAIN Label 4 - non-zero weights distribution : [1.]\n",
      "TEST Label 4 - non-zero weights distribution : [1.]\n",
      "\n",
      "TRAIN & TEST =  set()\n",
      "TRAIN Y label ratio: [0.19845361 0.19587629 0.19072165 0.20876289 0.20618557]\n",
      "TEST Y label ratio: [0.22857143 0.20952381 0.18095238 0.2        0.18095238]\n",
      "TRAIN Label 0 - non-zero weights distribution : [0.28571429 0.71428571]\n",
      "TEST Label 0 - non-zero weights distribution : [0.25 0.75]\n",
      "TRAIN Label 1 - non-zero weights distribution : [0.65789474 0.34210526]\n",
      "TEST Label 1 - non-zero weights distribution : [0.68181818 0.31818182]\n",
      "TRAIN Label 2 - non-zero weights distribution : [1.]\n",
      "TEST Label 2 - non-zero weights distribution : [1.]\n",
      "TRAIN Label 3 - non-zero weights distribution : [1.]\n",
      "TEST Label 3 - non-zero weights distribution : [1.]\n",
      "TRAIN Label 4 - non-zero weights distribution : [1.]\n",
      "TEST Label 4 - non-zero weights distribution : [1.]\n"
     ]
    }
   ],
   "source": [
    "\n",
    "for fold_index in range(5):\n",
    "    test_index = np.where(test_folds == fold_index)[0]\n",
    "    train_index = np.where(test_folds != fold_index)[0]\n",
    "\n",
    "    # for train_index, test_index in mskf.split(w, y):\n",
    "    print(\"\\nTRAIN & TEST = \", set(train_index) & set(test_index))\n",
    "    y_train = np.sum(y[train_index], axis=0)\n",
    "    y_train = y_train / np.sum(y_train)\n",
    "    y_test = np.sum(y[test_index], axis=0)\n",
    "    y_test = y_test / np.sum(y_test)\n",
    "    print(\"TRAIN Y label ratio:\", y_train)\n",
    "    print(\"TEST Y label ratio:\", y_test)\n",
    "\n",
    "    for i in range(n_labels):\n",
    "        w_train_hist, _ = np.histogram(w[train_index, i], bins=20, range=(0.01, 1), density=True)\n",
    "        w_train_hist = w_train_hist / np.sum(w_train_hist)\n",
    "        w_test_hist, _ = np.histogram(w[test_index, i], bins=20, range=(0.01, 1), density=True)\n",
    "        w_test_hist = w_test_hist / np.sum(w_test_hist)\n",
    "        print(\"TRAIN Label %i - non-zero weights distribution :\" % i, w_train_hist[w_train_hist > 0])\n",
    "        print(\"TEST Label %i - non-zero weights distribution :\" % i, w_test_hist[w_test_hist > 0])  "
   ]
  },
  {
   "cell_type": "code",
   "execution_count": null,
   "metadata": {},
   "outputs": [],
   "source": []
  }
 ],
 "metadata": {
  "kernelspec": {
   "display_name": "Python 3",
   "language": "python",
   "name": "python3"
  },
  "language_info": {
   "codemirror_mode": {
    "name": "ipython",
    "version": 3
   },
   "file_extension": ".py",
   "mimetype": "text/x-python",
   "name": "python",
   "nbconvert_exporter": "python",
   "pygments_lexer": "ipython3",
   "version": "3.5.2"
  }
 },
 "nbformat": 4,
 "nbformat_minor": 2
}
